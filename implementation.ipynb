{
  "cells": [
    {
      "cell_type": "code",
      "execution_count": null,
      "metadata": {
        "id": "LUKbJqQimEZK"
      },
      "outputs": [],
      "source": [
        "import numpy as np\n",
        "import pandas as pd\n",
        "from pathlib import Path\n",
        "import os.path\n",
        "from tensorflow.keras.preprocessing import image\n",
        "from tensorflow.keras.layers import GlobalAveragePooling2D\n",
        "import matplotlib.pyplot as plt\n",
        "import seaborn as sns\n",
        "from sklearn.model_selection import train_test_split\n",
        "import tensorflow as tf\n",
        "from sklearn.metrics import confusion_matrix, classification_report"
      ]
    },
    {
      "cell_type": "code",
      "execution_count": null,
      "metadata": {
        "colab": {
          "base_uri": "https://localhost:8080/"
        },
        "id": "wGISfdQ4mNG4",
        "outputId": "94b1044a-08c6-4d14-b0f5-0d3604170840"
      },
      "outputs": [
        {
          "name": "stdout",
          "output_type": "stream",
          "text": [
            "Drive already mounted at /content/drive; to attempt to forcibly remount, call drive.mount(\"/content/drive\", force_remount=True).\n"
          ]
        }
      ],
      "source": [
        "import pandas as pd\n",
        "from google.colab import drive\n",
        "drive.mount('/content/drive')\n",
        "os.chdir('/content/drive/My Drive')\n",
        "df = pd.read_csv('styles.csv' ,  on_bad_lines='skip')"
      ]
    },
    {
      "cell_type": "code",
      "execution_count": null,
      "metadata": {
        "id": "HmPyhA94YjwX"
      },
      "outputs": [],
      "source": [
        "count1 = df.groupby(['gender']).size()\n",
        "count2 = df.groupby(['masterCategory']).size()\n",
        "print(count1)\n",
        "print(count2)"
      ]
    },
    {
      "cell_type": "code",
      "execution_count": null,
      "metadata": {
        "id": "TB2geNFoovz0"
      },
      "outputs": [],
      "source": [
        "styles_np = df.to_numpy()"
      ]
    },
    {
      "cell_type": "code",
      "execution_count": null,
      "metadata": {
        "id": "9bbwvhGHziMf"
      },
      "outputs": [],
      "source": [
        "from os import listdir\n",
        "from PIL import Image\n",
        "from google.colab import drive\n",
        "drive.mount('/content/drive')\n",
        "os.chdir('/content/drive/My Drive/images')\n",
        "images = []\n",
        "gender = []\n",
        "master_category = []\n",
        "sub_category = []\n",
        "arti_type = []\n",
        "base_color = []\n",
        "season = []\n",
        "usage = []\n",
        "count = []\n",
        "count.append(df.groupby(['gender']).size())\n",
        "count.append(df.groupby(['masterCategory']).size())\n",
        "count.append(df.groupby(['subCategory']).size())\n",
        "count.append(df.groupby(['articleType']).size())\n",
        "count.append(df.groupby(['baseColour']).size())\n",
        "count.append(df.groupby(['season']).size())\n",
        "count.append(df.groupby(['usage']).size())\n",
        "for x in count:\n",
        "  x = x[:40000]\n",
        "for i in range(14000):\n",
        "    index = str(styles_np[i][0])\n",
        "    try:\n",
        "      print(i)\n",
        "      example = (df[df['id']==styles_np[i][0]])\n",
        "      example = np.array(example)\n",
        "      # if(isinstance(example[0][1] , float) or isinstance(example[0][2] , float) or isinstance(example[0][3] , float) or isinstance(example[0][4] , float) or\n",
        "      #      float or isinstance(example[0][5] , float) or isinstance(example[0][6] , float) or isinstance(example[0][8] , float)):\n",
        "      #   continue\n",
        "\n",
        "      if((count[3][example[0][4]] < 40)):\n",
        "          continue\n",
        "      images.append(str(index+\".jpg\"))\n",
        "      gender.append(str(example[0][1]))\n",
        "      master_category.append( str(example[0][2]))\n",
        "      sub_category.append( str(example[0][3]))\n",
        "      arti_type.append( str(example[0][4]))\n",
        "      base_color.append( str(example[0][5]))\n",
        "      season.append( str(example[0][6]))\n",
        "      usage.append( str(example[0][8]))\n",
        "    except FileNotFoundError as e:\n",
        "\n",
        "\n",
        "      pass"
      ]
    },
    {
      "cell_type": "code",
      "execution_count": null,
      "metadata": {
        "id": "-RlirJ-Wucqe"
      },
      "outputs": [],
      "source": [
        "images = pd.Series(images, name='Filepath').astype(str)\n",
        "gender = pd.Series(gender, name='gender')\n",
        "master_category = pd.Series(master_category , name = 'master_category')\n",
        "sub_category = pd.Series(sub_category , name = 'sub_category')\n",
        "arti_type =pd.Series(arti_type , name='arti_type')\n",
        "base_color = pd.Series(base_color , name = 'base_color')\n",
        "season = pd.Series(season , name = 'season')\n",
        "usage = pd.Series(usage , name = 'usage')"
      ]
    },
    {
      "cell_type": "code",
      "execution_count": null,
      "metadata": {
        "colab": {
          "base_uri": "https://localhost:8080/"
        },
        "id": "gsuAdxm85qYk",
        "outputId": "9e855555-b6c5-4fa7-e412-c666bba61e09"
      },
      "outputs": [
        {
          "data": {
            "text/plain": [
              "13714"
            ]
          },
          "execution_count": 142,
          "metadata": {},
          "output_type": "execute_result"
        }
      ],
      "source": [
        "len(images)"
      ]
    },
    {
      "cell_type": "code",
      "execution_count": null,
      "metadata": {
        "id": "p1XAl3O2uP1w"
      },
      "outputs": [],
      "source": [
        "images = pd.concat([images, gender , master_category , sub_category , arti_type , base_color,  season , usage], axis=1)"
      ]
    },
    {
      "cell_type": "code",
      "execution_count": null,
      "metadata": {
        "colab": {
          "base_uri": "https://localhost:8080/"
        },
        "id": "QxvG6FtuvRog",
        "outputId": "ec574a1a-683e-4582-cb98-7018271c124b"
      },
      "outputs": [
        {
          "data": {
            "text/plain": [
              "pandas.core.frame.DataFrame"
            ]
          },
          "execution_count": 145,
          "metadata": {},
          "output_type": "execute_result"
        }
      ],
      "source": [
        "type(images)"
      ]
    },
    {
      "cell_type": "code",
      "execution_count": null,
      "metadata": {
        "id": "-m9dorM4vWgf"
      },
      "outputs": [],
      "source": [
        "train_df, test_df = train_test_split(images, train_size=0.7, shuffle=True, random_state=1)"
      ]
    },
    {
      "cell_type": "code",
      "execution_count": null,
      "metadata": {
        "id": "jbsbr8mJViFL"
      },
      "outputs": [],
      "source": [
        "x_input = train_df.drop(['Filepath'], axis=1, inplace=False)"
      ]
    },
    {
      "cell_type": "code",
      "execution_count": null,
      "metadata": {
        "id": "4b4sV2tdLijo"
      },
      "outputs": [],
      "source": [
        "def format_output(data):\n",
        "    y1 = data.pop('Label1')\n",
        "    y1 = np.array(y1)\n",
        "    y2 = data.pop('Label1')\n",
        "    y2 = np.array(y2)\n",
        "    return y1, y2"
      ]
    },
    {
      "cell_type": "code",
      "execution_count": null,
      "metadata": {
        "id": "fEXf0zj8LNj5"
      },
      "outputs": [],
      "source": []
    },
    {
      "cell_type": "code",
      "execution_count": null,
      "metadata": {
        "id": "JM_c1Iu2vcb3"
      },
      "outputs": [],
      "source": [
        "train_generator = tf.keras.preprocessing.image.ImageDataGenerator(\n",
        "    preprocessing_function=tf.keras.applications.resnet50.preprocess_input,\n",
        "    validation_split=0.3)\n",
        "\n",
        "test_generator = tf.keras.preprocessing.image.ImageDataGenerator(\n",
        "    preprocessing_function=tf.keras.applications.resnet50.preprocess_input)"
      ]
    },
    {
      "cell_type": "markdown",
      "metadata": {
        "id": "dkh_MM8xEbHY"
      },
      "source": [
        "**Train multi output**"
      ]
    },
    {
      "cell_type": "code",
      "execution_count": null,
      "metadata": {
        "id": "YuM0SecBvdNh"
      },
      "outputs": [],
      "source": [
        "train_images = train_generator.flow_from_dataframe(\n",
        "    dataframe=train_df,\n",
        "    x_col='Filepath',\n",
        "    y_col=['gender',  'master_category' , 'sub_category' , 'arti_type' , 'base_color' , 'season' , 'usage'],\n",
        "    target_size=(60,80),\n",
        "    color_mode='rgb',\n",
        "    class_mode='multi_output',\n",
        "    batch_size=30,\n",
        "    shuffle=True,\n",
        "    seed=42,\n",
        ")"
      ]
    },
    {
      "cell_type": "markdown",
      "metadata": {
        "id": "yfwrpeSWEf0J"
      },
      "source": [
        "**Train single output**"
      ]
    },
    {
      "cell_type": "code",
      "execution_count": null,
      "metadata": {
        "id": "V03uUtokzuJV"
      },
      "outputs": [],
      "source": [
        "# train_images = train_generator.flow_from_dataframe(\n",
        "#     dataframe=train_df,\n",
        "#     x_col='Filepath',\n",
        "#     y_col='base_color',\n",
        "#     target_size=(60,80),\n",
        "#     color_mode='rgb',\n",
        "#     class_mode='categorical',\n",
        "#     batch_size=30,\n",
        "#     shuffle=True,\n",
        "#     seed=42,\n",
        "# )"
      ]
    },
    {
      "cell_type": "markdown",
      "metadata": {
        "id": "GrJvcxEgEm3l"
      },
      "source": [
        "**Validation and test multioutput**"
      ]
    },
    {
      "cell_type": "code",
      "execution_count": null,
      "metadata": {
        "id": "yOOSqA5xwoXX"
      },
      "outputs": [],
      "source": [
        "\n",
        "val_images = train_generator.flow_from_dataframe(\n",
        "    dataframe=train_df,\n",
        "    x_col='Filepath',\n",
        "     y_col=['gender',  'master_category' , 'sub_category' , 'arti_type' , 'base_color' , 'season' , 'usage'],\n",
        "    target_size=(60,80),\n",
        "    color_mode='rgb',\n",
        "    class_mode='multi_output',\n",
        "    batch_size=30,\n",
        "    shuffle=True,\n",
        "    subset='validation',\n",
        ")\n",
        "\n",
        "test_images = test_generator.flow_from_dataframe(\n",
        "    dataframe=test_df,\n",
        "    x_col='Filepath',\n",
        "    y_col=['gender',  'master_category' , 'sub_category' , 'arti_type' , 'base_color' , 'season' , 'usage'],\n",
        "    target_size=(60,80),\n",
        "    color_mode='rgb',\n",
        "    class_mode='multi_output',\n",
        "    batch_size=30,\n",
        "    shuffle=True,\n",
        ")"
      ]
    },
    {
      "cell_type": "markdown",
      "metadata": {
        "id": "oxr0EvQeEsnq"
      },
      "source": [
        "**Validation and test single output**"
      ]
    },
    {
      "cell_type": "code",
      "execution_count": null,
      "metadata": {
        "id": "2IxwO5rQzYxV"
      },
      "outputs": [],
      "source": [
        "\n",
        "# val_images = train_generator.flow_from_dataframe(\n",
        "#     dataframe=train_df,\n",
        "#     x_col='Filepath',\n",
        "#      y_col='base_color' ,\n",
        "#     target_size=(60,80),\n",
        "#     color_mode='rgb',\n",
        "#     class_mode='categorical',\n",
        "#     batch_size=30,\n",
        "#     shuffle=True,\n",
        "#     subset='validation',\n",
        "# )\n",
        "\n",
        "# test_images = test_generator.flow_from_dataframe(\n",
        "#     dataframe=test_df,\n",
        "#     x_col='Filepath',\n",
        "#     y_col= 'base_color' ,\n",
        "#     target_size=(60,80),\n",
        "#     color_mode='rgb',\n",
        "#     class_mode='categorical',\n",
        "#     batch_size=30,\n",
        "#     shuffle=True,\n",
        "# )"
      ]
    },
    {
      "cell_type": "code",
      "execution_count": null,
      "metadata": {
        "id": "ZHVr7iquU7Rl"
      },
      "outputs": [],
      "source": [
        "# train_images.drop(['Filepath'])"
      ]
    },
    {
      "cell_type": "code",
      "execution_count": null,
      "metadata": {
        "id": "gcEUpV3exvQy"
      },
      "outputs": [],
      "source": [
        "pretrained_model = tf.keras.applications.resnet50.ResNet50(\n",
        "                    input_shape=(60,80 , 3),\n",
        "                    include_top=False,\n",
        "                    weights='imagenet',\n",
        "                    pooling='avg')\n",
        "\n",
        "pretrained_model.trainable = False"
      ]
    },
    {
      "cell_type": "code",
      "execution_count": null,
      "metadata": {
        "id": "AhmuqUogY2bE"
      },
      "outputs": [],
      "source": []
    },
    {
      "cell_type": "code",
      "execution_count": null,
      "metadata": {
        "id": "SFu9i6YXx5jQ"
      },
      "outputs": [],
      "source": [
        "inputs = pretrained_model.input\n",
        "x = tf.keras.layers.Dense(64, activation='relu')(pretrained_model.output)\n",
        "x = tf.keras.layers.Dense(32, activation='relu')(x)\n",
        "\n",
        "gender = tf.keras.layers.Dense(5, activation=\"softmax\", name='gender')(x)\n",
        "master_category = tf.keras.layers.Dense(5,  activation=\"softmax\", name='master_category')(x)\n",
        "sub_category = tf.keras.layers.Dense(31, activation=\"softmax\", name='sub_category')(x)\n",
        "arti_type = tf.keras.layers.Dense(76,  activation=\"softmax\", name='arti_type')(x)\n",
        "base_color = tf.keras.layers.Dense(46, activation=\"softmax\", name='base_color')(x)\n",
        "season = tf.keras.layers.Dense(4,  activation=\"softmax\", name='season')(x)\n",
        "usage = tf.keras.layers.Dense(8, activation=\"softmax\", name='usage')(x)\n",
        "\n",
        "outputs = [gender , master_category , sub_category , arti_type , base_color , season , usage]\n",
        "model = tf.keras.Model(inputs = inputs, outputs = outputs)\n",
        "print(model.summary())"
      ]
    },
    {
      "cell_type": "code",
      "execution_count": null,
      "metadata": {
        "id": "3LNE3f-ZaIoa"
      },
      "outputs": [],
      "source": [
        "model.compile(\n",
        "    loss = {\n",
        "        \"gender\": 'categorical_crossentropy',\n",
        "        \"master_category\": 'categorical_crossentropy',\n",
        "        \"sub_category\" : 'categorical_crossentropy' ,\n",
        "        \"arti_type\" : 'categorical_crossentropy' ,\n",
        "        \"base_color\" : 'categorical_crossentropy' ,\n",
        "        \"season\" : 'categorical_crossentropy' ,\n",
        "        \"gender\" : 'categorical_crossentropy'\n",
        "    },\n",
        "    metrics = {\n",
        "        \"gender\": 'accurcy',\n",
        "        \"master_category\": 'accuracy',\n",
        "        \"sub_category\" : 'accuracy' ,\n",
        "        \"arti_type\" : 'accuracy' ,\n",
        "        \"base_color\" : 'accuracy' ,\n",
        "        \"season\" : 'accuracy' ,\n",
        "        \"usage\" : 'accuracy'\n",
        "    },\n",
        "    optimizer = tf.keras.optimizers.Adam(learning_rate=0.001)\n",
        ")"
      ]
    },
    {
      "cell_type": "code",
      "execution_count": null,
      "metadata": {
        "id": "XoD2r3hMSBMJ"
      },
      "outputs": [],
      "source": [
        "type(train_images)"
      ]
    },
    {
      "cell_type": "code",
      "execution_count": null,
      "metadata": {
        "id": "ZP1V6q1mUvNK"
      },
      "outputs": [],
      "source": [
        "number_of_examples = len(train_images.filenames)"
      ]
    },
    {
      "cell_type": "code",
      "execution_count": null,
      "metadata": {
        "id": "9N5O4cThUyZ-"
      },
      "outputs": [],
      "source": [
        "x = []\n",
        "y = [[]for i in range(7)]\n",
        "\n",
        "f=0\n",
        "for i in range(4):\n",
        "  # for j in range(len(train_images[i][0])):\n",
        "    f+=1\n",
        "    print(f)\n",
        "    for exam in train_images[i][0]:\n",
        "        x .append(exam)\n",
        "    for j in range(7):\n",
        "      for exam in train_images[i][1][j]:\n",
        "          y[j].append(exam)\n"
      ]
    },
    {
      "cell_type": "code",
      "execution_count": null,
      "metadata": {
        "id": "ybOa2uVNpE7O"
      },
      "outputs": [],
      "source": [
        "x = np.array(x) / 255.0"
      ]
    },
    {
      "cell_type": "code",
      "execution_count": null,
      "metadata": {
        "id": "RZHvKZ3oyENw"
      },
      "outputs": [],
      "source": [
        "callbacks = tf.keras.callbacks.EarlyStopping(monitor='val_loss',patience=3,restore_best_weights=True)\n",
        "\n",
        "history = model.fit(train_images,\n",
        "         validation_data = val_images\n",
        "         ,epochs=50,\n",
        "    callbacks=[callbacks])"
      ]
    },
    {
      "cell_type": "code",
      "execution_count": null,
      "metadata": {
        "id": "FlNdSfqfwyRe"
      },
      "outputs": [],
      "source": [
        "xt = []\n",
        "yt1 = []\n",
        "yt2 = []\n",
        "f=0\n",
        "for i in range(len(train_images)):\n",
        "  for j in range(len(train_images[i][0])):\n",
        "    f+=1\n",
        "    print(f)\n",
        "    xt.append(train_images[i][0][j])\n",
        "    yt1.append(train_images[i][1][0][j])\n",
        "    yt2.append(train_images[i][1][1][j])"
      ]
    },
    {
      "cell_type": "code",
      "execution_count": null,
      "metadata": {
        "id": "DSCkSDbm9CSd"
      },
      "outputs": [],
      "source": [
        "xt = np.array(xt) / 255.0"
      ]
    },
    {
      "cell_type": "code",
      "execution_count": null,
      "metadata": {
        "id": "8Xi0nCr9C8u7"
      },
      "outputs": [],
      "source": [
        "lb_gender1 = LabelBinarizer()\n",
        "yt1 = lb_gender1.fit_transform(yt1)\n",
        "\n",
        "lb_cat1 = LabelBinarizer()\n",
        "yt2 = lb_cat1.fit_transform( yt2)"
      ]
    },
    {
      "cell_type": "code",
      "execution_count": null,
      "metadata": {
        "id": "3oPmoNm38HRD"
      },
      "outputs": [],
      "source": [
        "gender_actuals = np.argmax(yt1, axis = 1)\n",
        "category_actuals = np.argmax(yt2, axis = 1)"
      ]
    },
    {
      "cell_type": "code",
      "execution_count": null,
      "metadata": {
        "id": "ui98hZGjNF2t"
      },
      "outputs": [],
      "source": [
        "gender_preds = np.argmax(gender_preds, axis = 1)\n",
        "cat_preds= np.argmax(cat_preds, axis = 1)"
      ]
    },
    {
      "cell_type": "code",
      "execution_count": null,
      "metadata": {
        "id": "_wrzcZqkEKlm"
      },
      "outputs": [],
      "source": [
        "gender_confusion = confusion_matrix(gender_actuals, gender_preds)\n",
        "category_confusion = confusion_matrix(category_actuals, cat_preds)"
      ]
    },
    {
      "cell_type": "code",
      "execution_count": null,
      "metadata": {
        "id": "zJjx_jr0jWNl"
      },
      "outputs": [],
      "source": [
        "predictions = np.argmax(model.predict(test_images), axis=1)\n",
        "matrix = confusion_matrix(test_images.labels, predictions)\n",
        "report= classification_report(test_images.labels, predictions, target_names=test_images.class_indices, zero_division=0)"
      ]
    },
    {
      "cell_type": "code",
      "execution_count": null,
      "metadata": {
        "id": "XUlY5ktYEsqu"
      },
      "outputs": [],
      "source": [
        "fig = plt.figure(figsize=(5,5))\n",
        "sns.heatmap(gender_confusion, annot=True, cmap='viridis')\n",
        "plt.xticks(ticks=np.arange(5) + 0.5, labels = lb_gender.classes_, rotation=90)\n",
        "plt.yticks(ticks=np.arange(5) + 0.5, labels = lb_gender.classes_, rotation=0)\n",
        "plt.title(\"Confusion Matrix\")\n",
        "plt.xlabel(\"Predicted\")\n",
        "plt.ylabel(\"Actual\")\n",
        "plt.show()\n",
        "fig.savefig(\"Gender Confusion Matrix\",dpi=700)"
      ]
    },
    {
      "cell_type": "code",
      "execution_count": null,
      "metadata": {
        "id": "CbC2TdAmIVBe"
      },
      "outputs": [],
      "source": [
        "fig = plt.figure(figsize=(5,5))\n",
        "sns.heatmap(category_confusion, annot=True, cmap='viridis')\n",
        "plt.xticks(ticks=np.arange(5) + 0.5, labels = lb_cat.classes_, rotation=90)\n",
        "plt.yticks(ticks=np.arange(5) + 0.5, labels = lb_cat.classes_, rotation=0)\n",
        "plt.title(\"Confusion Matrix\")\n",
        "plt.xlabel(\"Predicted\")\n",
        "plt.ylabel(\"Actual\")\n",
        "plt.show()\n",
        "fig.savefig(\"Category Confusion Matrix\",dpi=700)"
      ]
    },
    {
      "cell_type": "code",
      "execution_count": null,
      "metadata": {
        "id": "RCcYE2PvjkuX"
      },
      "outputs": [],
      "source": [
        "report_category = classification_report(category_actuals , cat_preds ,target_names=lb_cat.classes_, zero_division=0 )"
      ]
    },
    {
      "cell_type": "code",
      "execution_count": null,
      "metadata": {
        "id": "_ehHxKuLlc1x"
      },
      "outputs": [],
      "source": [
        "print(\"Classification Report:\\n\", report_category)"
      ]
    },
    {
      "cell_type": "code",
      "execution_count": null,
      "metadata": {
        "id": "36awugd5ntfv"
      },
      "outputs": [],
      "source": [
        "data_his = pd.DataFrame(history.history)\n",
        "data_his"
      ]
    },
    {
      "cell_type": "code",
      "execution_count": null,
      "metadata": {
        "id": "MRX1tn4wnpHH"
      },
      "outputs": [],
      "source": [
        "plt.style.use('ggplot')\n",
        "fig = plt.figure(figsize=(18, 4))\n",
        "plt.plot(data_his['loss'], label = 'Training set')\n",
        "plt.plot(data_his['val_loss'], label = 'Validation set')\n",
        "plt.legend()\n",
        "plt.title('Loss Function')\n",
        "plt.show()\n",
        "fig.savefig(\"Loss Function\",dpi=700)"
      ]
    },
    {
      "cell_type": "code",
      "execution_count": null,
      "metadata": {
        "id": "UfEMFrbvg-co"
      },
      "outputs": [],
      "source": [
        "fig = plt.figure(figsize=(18, 4))\n",
        "plt.plot(data_his['accuracy'], label = 'train')\n",
        "plt.plot(data_his['val_accuracy'], label = 'val')\n",
        "plt.legend()\n",
        "plt.title('Accuracy Function')\n",
        "plt.show()\n",
        "fig.savefig(\"Accuracy Function\",dpi=700)"
      ]
    },
    {
      "cell_type": "code",
      "execution_count": null,
      "metadata": {
        "id": "zkUlTF_zsYof"
      },
      "outputs": [],
      "source": [
        "model.save(\"usage.h5\")"
      ]
    }
  ],
  "metadata": {
    "colab": {
      "provenance": []
    },
    "kernelspec": {
      "display_name": "Python 3",
      "name": "python3"
    },
    "language_info": {
      "name": "python"
    }
  },
  "nbformat": 4,
  "nbformat_minor": 0
}
